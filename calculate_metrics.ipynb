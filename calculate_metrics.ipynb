{
 "cells": [
  {
   "cell_type": "code",
   "execution_count": 1,
   "metadata": {},
   "outputs": [],
   "source": [
    "import pysam\n",
    "import pandas as pd\n",
    "import matplotlib.pyplot as plt\n",
    "from tqdm import tqdm"
   ]
  },
  {
   "cell_type": "code",
   "execution_count": 2,
   "metadata": {},
   "outputs": [],
   "source": [
    "def custom_load_vcf( file_path ):\n",
    "    vcf_file = pysam.VariantFile(file_path, mode='r')\n",
    "    samples = list(vcf_file.header.samples)\n",
    "    results = {'chrom': [], 'start': [], 'stop': [], 'id': []}\n",
    "    for record in vcf_file.fetch():\n",
    "        results['chrom'].append(record.chrom)\n",
    "        results['start'].append(record.start)\n",
    "        results['stop'].append(record.stop)\n",
    "        results['id'].append(record.id)\n",
    "    sv_matrix = pd.DataFrame(results)\n",
    "    vcf_file.close()\n",
    "    return sv_matrix\n"
   ]
  },
  {
   "cell_type": "code",
   "execution_count": 3,
   "metadata": {},
   "outputs": [
    {
     "name": "stdout",
     "output_type": "stream",
     "text": [
      "cgp4.vcf:\n",
      "  Number of rows: 2416\n",
      "  Mean of lenghts: 2.40e+06\n",
      "  Variance of lenghts: 8.81e+12\n",
      "cnvpytor_1000.vcf:\n",
      "  Number of rows: 10379\n",
      "  Mean of lenghts: 7.73e+04\n",
      "  Variance of lenghts: 1.07e+09\n",
      "delly.vcf:\n",
      "  Number of rows: 13\n",
      "  Mean of lenghts: 2.61e+04\n",
      "  Variance of lenghts: 8.14e+09\n"
     ]
    },
    {
     "data": {
      "image/png": "[encoded data removed]",
      "text/plain": [
       "<Figure size 864x432 with 1 Axes>"
      ]
     },
     "metadata": {
      "needs_background": "light"
     },
     "output_type": "display_data"
    }
   ],
   "source": [
    "folder_path = 'output/'\n",
    "filename_list = ['cgp4.vcf', 'cnvpytor_1000.vcf', 'delly.vcf']\n",
    "\n",
    "loaded_files = {}\n",
    "row_counts = {}\n",
    "diff_stats = {}\n",
    "\n",
    "for filename in filename_list:\n",
    "    file_path = folder_path + filename\n",
    "    sv_matrix = custom_load_vcf(file_path)\n",
    "    \n",
    "    # Calculate the difference between stop and start\n",
    "    sv_matrix['diff'] = sv_matrix['stop'] - sv_matrix['start']\n",
    "    \n",
    "    # Calculate mean and variance\n",
    "    mean_diff = sv_matrix['diff'].mean()\n",
    "    variance_diff = sv_matrix['diff'].var()\n",
    "    \n",
    "    # Store results\n",
    "    loaded_files[filename] = sv_matrix\n",
    "    row_counts[filename] = len(sv_matrix)\n",
    "    diff_stats[filename] = {'mean': mean_diff, 'variance': variance_diff}\n",
    "    \n",
    "    # Print results\n",
    "    print(f'{filename}:')\n",
    "    print(f'  Number of rows: {row_counts[filename]}')\n",
    "    print(f'  Mean of lenghts: {mean_diff:.2e}')\n",
    "    print(f'  Variance of lenghts: {variance_diff:.2e}')\n",
    "\n",
    "# Generate boxplots\n",
    "plt.figure(figsize=(12, 6))\n",
    "\n",
    "for filename, sv_matrix in loaded_files.items():\n",
    "    plt.boxplot(sv_matrix['diff'], positions=[list(loaded_files.keys()).index(filename)], labels=[filename])\n",
    "\n",
    "plt.title('Boxplot of Stop-Start Differences for Each VCF File')\n",
    "plt.ylabel('Difference (stop - start)')\n",
    "plt.xticks(rotation=45)\n",
    "plt.grid(True)\n",
    "plt.show()"
   ]
  },
  {
   "cell_type": "code",
   "execution_count": 4,
   "metadata": {},
   "outputs": [
    {
     "name": "stdout",
     "output_type": "stream",
     "text": [
      "Invalid rows in cgp4.vcf:\n",
      "     chrom     start      stop               id      diff\n",
      "2     chr1   3853000   6272000  cgp4_chr1_DUP_2   2419000\n",
      "3     chr1   4102000   4578000  cgp4_chr1_DEL_0    476000\n",
      "5     chr1   5675000   7113000  cgp4_chr1_DEL_2   1438000\n",
      "6     chr1   6273000   6674000  cgp4_chr1_DUP_3    401000\n",
      "7     chr1   6675000   7813000  cgp4_chr1_DUP_4   1138000\n",
      "...    ...       ...       ...              ...       ...\n",
      "2405  chrY   6566000   7145000  cgp4_chrY_DEL_5    579000\n",
      "2408  chrY  10465000  13827000  cgp4_chrY_DEL_8   3362000\n",
      "2409  chrY  11815000  57010000  cgp4_chrY_DUP_2  45195000\n",
      "2409  chrY  11815000  57010000  cgp4_chrY_DUP_2  45195000\n",
      "2410  chrY  13828000  14687000  cgp4_chrY_DEL_9    859000\n",
      "\n",
      "[1734 rows x 5 columns]\n",
      "No invalid rows in cnvpytor_1000.vcf\n",
      "No invalid rows in delly.vcf\n"
     ]
    }
   ],
   "source": [
    "def find_rows_with_stop_before_start(sv_matrix):\n",
    "    sv_matrix_sorted = sv_matrix.sort_values(by=['chrom', 'start']).reset_index(drop=True)\n",
    "    invalid_rows = []\n",
    "\n",
    "    for i in range(1, len(sv_matrix_sorted)):\n",
    "        if (sv_matrix_sorted.iloc[i]['chrom'] == sv_matrix_sorted.iloc[i - 1]['chrom'] and\n",
    "            sv_matrix_sorted.iloc[i]['start'] < sv_matrix_sorted.iloc[i - 1]['stop']):\n",
    "            invalid_rows.append(i-1)\n",
    "            invalid_rows.append(i)\n",
    "\n",
    "    return sv_matrix_sorted.iloc[invalid_rows]\n",
    "\n",
    "for filename, sv_matrix in loaded_files.items():\n",
    "\n",
    "    invalid_rows = find_rows_with_stop_before_start(sv_matrix)\n",
    "    \n",
    "    if not invalid_rows.empty:\n",
    "        print(f'Invalid rows in {filename}:')\n",
    "        print(invalid_rows)\n",
    "    else:\n",
    "        print(f'No invalid rows in {filename}')"
   ]
  },
  {
   "cell_type": "code",
   "execution_count": 5,
   "metadata": {},
   "outputs": [
    {
     "name": "stdout",
     "output_type": "stream",
     "text": [
      "No invalid rows in cgp4_non_overlapping\n"
     ]
    }
   ],
   "source": [
    "def remove_overlapping_rows(df):\n",
    "    # Sort the DataFrame by the 'start' column\n",
    "    df_sorted = df.sort_values(by='start')\n",
    "\n",
    "    # Initialize an empty list to store non-overlapping rows\n",
    "    non_overlapping_rows = []\n",
    "\n",
    "    # Iterate through the sorted DataFrame\n",
    "    for index, row in df_sorted.iterrows():\n",
    "        # If the list of non-overlapping rows is empty or if the current row does not overlap with the last row in the list\n",
    "        if len(non_overlapping_rows) == 0 or row['start'] > non_overlapping_rows[-1]['stop']:\n",
    "            # Append the current row to the list of non-overlapping rows\n",
    "            non_overlapping_rows.append(row)\n",
    "        else:\n",
    "            # If the current row overlaps with the last row in the list, merge them by updating the stop position of the last row\n",
    "            non_overlapping_rows[-1]['stop'] = max(non_overlapping_rows[-1]['stop'], row['stop'])\n",
    "\n",
    "    # Convert the list of non-overlapping rows back to a DataFrame\n",
    "    non_overlapping_df = pd.DataFrame(non_overlapping_rows)\n",
    "\n",
    "    return non_overlapping_df\n",
    "\n",
    "cgp4_non_overlapping = remove_overlapping_rows(loaded_files[filename_list[0]])\n",
    "\n",
    "invalid_rows = find_rows_with_stop_before_start(cgp4_non_overlapping)\n",
    "if not invalid_rows.empty:\n",
    "    print(f'Invalid rows in cgp4_non_overlapping:')\n",
    "    print(invalid_rows)\n",
    "else:\n",
    "    print(f'No invalid rows in cgp4_non_overlapping')\n"
   ]
  },
  {
   "cell_type": "code",
   "execution_count": 6,
   "metadata": {},
   "outputs": [],
   "source": [
    "loaded_files_non_overlapping = loaded_files\n",
    "loaded_files_non_overlapping['cgp4.vcf'] = cgp4_non_overlapping"
   ]
  },
  {
   "cell_type": "code",
   "execution_count": 7,
   "metadata": {},
   "outputs": [
    {
     "name": "stdout",
     "output_type": "stream",
     "text": [
      "Common Intersection Area: 84000\n",
      "Common Union Area: 395806528\n"
     ]
    }
   ],
   "source": [
    "def calculate_common_intersection_area(df1, df2):\n",
    "    \n",
    "    # Group DataFrames by chromosome\n",
    "    grouped_df1 = df1.groupby('chrom')\n",
    "    grouped_df2 = df2.groupby('chrom')\n",
    "    \n",
    "    total_common_intersection_area = 0\n",
    "    total_common_union_area = 0\n",
    "    \n",
    "    # Calculate common intersection area for each chromosome\n",
    "    for chrom, data1 in grouped_df1:\n",
    "        if chrom in grouped_df2.groups:\n",
    "            data2 = grouped_df2.get_group(chrom)\n",
    "            total_common_intersection_area += calculate_intersection_area_between_two(data1, data2)\n",
    "            total_common_union_area += calculate_union_area_between_two(data1, data2)\n",
    "    \n",
    "    return total_common_intersection_area, total_common_union_area\n",
    "\n",
    "def calculate_union_area_between_two(data1, data2):\n",
    "    # Combine data1 and data2\n",
    "    combined_df = pd.concat([data1, data2])\n",
    "    \n",
    "    # Remove overlapping rows\n",
    "    non_overlapping_df = remove_overlapping_rows(combined_df)\n",
    "    \n",
    "    # Calculate union area\n",
    "    union_area = sum(non_overlapping_df['stop'] - non_overlapping_df['start'])\n",
    "    \n",
    "    return union_area\n",
    "\n",
    "def calculate_intersection_area_between_two(data1, data2):\n",
    "    total_intersection_area = 0\n",
    "    total_union_area = 0\n",
    "    sorted_data1 = data1.sort_values(by=['start'])\n",
    "    sorted_data2 = data2.sort_values(by=['start'])\n",
    "    index1 = 0\n",
    "    index2 = 0\n",
    "    \n",
    "    while index1 < len(sorted_data1) and index2 < len(sorted_data2):\n",
    "        row1 = sorted_data1.iloc[index1]\n",
    "        row2 = sorted_data2.iloc[index2]\n",
    "        \n",
    "        start1 = row1['start']\n",
    "        stop1 = row1['stop']\n",
    "        start2 = row2['start']\n",
    "        stop2 = row2['stop']\n",
    "        \n",
    "        # Calculate intersection\n",
    "        intersection_start = max(start1, start2)\n",
    "        intersection_end = min(stop1, stop2)\n",
    "        \n",
    "        if intersection_end > intersection_start:\n",
    "            total_intersection_area += intersection_end - intersection_start\n",
    "        \n",
    "        # Move to the next region with the smallest stop coordinate\n",
    "        if stop1 < stop2:\n",
    "            index1 += 1\n",
    "        else:\n",
    "            index2 += 1\n",
    "    \n",
    "    return total_intersection_area\n",
    "\n",
    "# Example usage with file paths\n",
    "file1 = loaded_files[filename_list[1]]\n",
    "file2 = loaded_files[filename_list[2]]\n",
    "\n",
    "common_intersection_area, common_union_area = calculate_common_intersection_area(file1, file2)\n",
    "print(\"Common Intersection Area:\", common_intersection_area)\n",
    "print(\"Common Union Area:\", common_union_area)"
   ]
  },
  {
   "cell_type": "code",
   "execution_count": 8,
   "metadata": {},
   "outputs": [
    {
     "name": "stdout",
     "output_type": "stream",
     "text": [
      "No invalid rows in cgp4.vcf\n",
      "No invalid rows in cnvpytor_1000.vcf\n",
      "No invalid rows in delly.vcf\n"
     ]
    }
   ],
   "source": [
    "for filename, sv_matrix in loaded_files.items():\n",
    "\n",
    "    invalid_rows = find_rows_with_stop_before_start(sv_matrix)\n",
    "    \n",
    "    if not invalid_rows.empty:\n",
    "        print(f'Invalid rows in {filename}:')\n",
    "        print(invalid_rows)\n",
    "    else:\n",
    "        print(f'No invalid rows in {filename}')"
   ]
  },
  {
   "cell_type": "code",
   "execution_count": 9,
   "metadata": {},
   "outputs": [
    {
     "name": "stdout",
     "output_type": "stream",
     "text": [
      "IoU for cgp4.vcf and cnvpytor_1000.vcf:  6.879%\n",
      "IoU for cgp4.vcf and delly.vcf:  0.0%\n",
      "IoU for cnvpytor_1000.vcf and delly.vcf:  0.02122%\n"
     ]
    }
   ],
   "source": [
    "for i in range(len(loaded_files)):\n",
    "    for j in range(i+1, len(loaded_files)):\n",
    "        name1 = filename_list[i]\n",
    "        name2 = filename_list[j]\n",
    "        df1, df2 = loaded_files[name1], loaded_files[name2]\n",
    "        common_intersection_area, common_union_area = calculate_common_intersection_area(df1, df2)\n",
    "        if common_union_area > 0:\n",
    "            iou = common_intersection_area / common_union_area\n",
    "        else:\n",
    "            iou = 0.0\n",
    "        print(f\"IoU for {name1} and {name2}:  {iou*100:.4}%\")"
   ]
  },
  {
   "cell_type": "code",
   "execution_count": null,
   "metadata": {},
   "outputs": [],
   "source": []
  },
  {
   "cell_type": "code",
   "execution_count": null,
   "metadata": {},
   "outputs": [],
   "source": []
  },
  {
   "cell_type": "code",
   "execution_count": null,
   "metadata": {},
   "outputs": [],
   "source": []
  }
 ],
 "metadata": {
  "kernelspec": {
   "display_name": "Python 3 (ipykernel)",
   "language": "python",
   "name": "python3"
  },
  "language_info": {
   "codemirror_mode": {
    "name": "ipython",
    "version": 3
   },
   "file_extension": ".py",
   "mimetype": "text/x-python",
   "name": "python",
   "nbconvert_exporter": "python",
   "pygments_lexer": "ipython3",
   "version": "3.9.1"
  }
 },
 "nbformat": 4,
 "nbformat_minor": 2
}
